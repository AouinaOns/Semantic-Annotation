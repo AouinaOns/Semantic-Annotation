{
 "cells": [
  {
   "cell_type": "code",
   "execution_count": 2,
   "id": "1cb0e1de-bab8-445f-bbeb-c5c9c1523685",
   "metadata": {},
   "outputs": [],
   "source": [
    "import rdflib\n",
    "\n",
    "\n",
    "def _parseOntology(path: str = None) -> rdflib.Graph():\n",
    "    import rdflib\n",
    "    # Instantiate a graph as defined in the rdflib library\n",
    "    onto = rdflib.Graph()\n",
    "    onto.parse(path, format='turtle')\n",
    "    return onto"
   ]
  },
  {
   "cell_type": "code",
   "execution_count": 3,
   "id": "69a92cbf-2f26-46ef-9cdc-4c4dae20c23f",
   "metadata": {},
   "outputs": [],
   "source": [
    "# read the onto and generate cypher\n",
    "classes_and_props_query =\n",
    "\"\"\" \n",
    "prefix owl: <http://www.w3.org/2002/07/owl#>\n",
    "prefix rdf: <http://www.w3.org/1999/02/22-rdf-syntax-ns#>\n",
    "\n",
    "SELECT DISTINCT ?class (GROUP_CONCAT(DISTINCT ?propTypePair ; SEPARATOR=\",\") AS ?props)\n",
    "WHERE {\n",
    "    ?class rdf:type owl:Class .\n",
    "    optional { \n",
    "      ?prop rdfs:domain ?class ;\n",
    "        a owl:DatatypeProperty ;\n",
    "        rdfs:range ?range .\n",
    "      BIND (concat(str(?prop),';',str(?range)) AS ?propTypePair)\n",
    "    }\n",
    "  } GROUP BY ?class  \"\"\"\n"
   ]
  },
  {
   "cell_type": "code",
   "execution_count": 4,
   "id": "e1223e85-34e5-4659-b3cd-0205a466c05c",
   "metadata": {},
   "outputs": [],
   "source": [
    "relations_query = \n",
    "\"\"\"\n",
    "prefix owl: <http://www.w3.org/2002/07/owl#>\n",
    "prefix rdf: <http://www.w3.org/1999/02/22-rdf-syntax-ns#>\n",
    "\n",
    "SELECT DISTINCT ?rel ?dom ?ran #(GROUP_CONCAT(DISTINCT ?relTriplet ; SEPARATOR=\",\") AS ?rels)\n",
    "WHERE {\n",
    "    ?rel a ?propertyClass .\n",
    "    filter(?propertyClass in (rdf:Property, owl:ObjectProperty, owl:FunctionalProperty, owl:AsymmetricProperty, \n",
    "           owl:InverseFunctionalProperty, owl:IrreflexiveProperty, owl:ReflexiveProperty, owl:SymmetricProperty, owl:TransitiveProperty))\n",
    "\n",
    "    ?rel rdfs:domain ?dom ;\n",
    "      rdfs:range ?ran .\n",
    "\n",
    "    #BIND (concat(str(?rel),';',str(?dom),';',str(?range)) AS ?relTriplet)\n",
    "\n",
    "  }\n",
    "\"\"\""
   ]
  },
  {
   "cell_type": "code",
   "execution_count": 1,
   "id": "b882b7aa-6efe-4646-a5a4-8c9af4960d3a",
   "metadata": {},
   "outputs": [
    {
     "ename": "ModuleNotFoundError",
     "evalue": "No module named 'deeponto'",
     "output_type": "error",
     "traceback": [
      "\u001b[0;31m---------------------------------------------------------------------------\u001b[0m",
      "\u001b[0;31mModuleNotFoundError\u001b[0m                       Traceback (most recent call last)",
      "Cell \u001b[0;32mIn[1], line 1\u001b[0m\n\u001b[0;32m----> 1\u001b[0m \u001b[38;5;28;01mfrom\u001b[39;00m \u001b[38;5;21;01mdeeponto\u001b[39;00m\u001b[38;5;21;01m.\u001b[39;00m\u001b[38;5;21;01monto\u001b[39;00m \u001b[38;5;28;01mimport\u001b[39;00m Ontology\n",
      "\u001b[0;31mModuleNotFoundError\u001b[0m: No module named 'deeponto'"
     ]
    }
   ],
   "source": [
    "from deeponto.onto import Ontology"
   ]
  },
  {
   "cell_type": "code",
   "execution_count": null,
   "id": "431e1a5c-c3d2-4ca0-9e81-9a6a707f040b",
   "metadata": {},
   "outputs": [],
   "source": []
  }
 ],
 "metadata": {
  "kernelspec": {
   "display_name": "Python 3 (ipykernel)",
   "language": "python",
   "name": "python3"
  },
  "language_info": {
   "codemirror_mode": {
    "name": "ipython",
    "version": 3
   },
   "file_extension": ".py",
   "mimetype": "text/x-python",
   "name": "python",
   "nbconvert_exporter": "python",
   "pygments_lexer": "ipython3",
   "version": "3.11.4"
  }
 },
 "nbformat": 4,
 "nbformat_minor": 5
}
